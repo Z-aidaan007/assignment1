{
 "cells": [
  {
   "cell_type": "markdown",
   "metadata": {},
   "source": [
    "# Question 1\n",
    "\n"
   ]
  },
  {
   "cell_type": "raw",
   "metadata": {},
   "source": [
    "What is the time, space complexity of following code:\n",
    "int a = 0, b = 0;\n",
    "for (i = 0; i < N; i++) {\n",
    "a = a + 1;\n",
    "}\n",
    "for (j = 0; j < M; j++) {\n",
    "b = b + j;\n",
    "}\n"
   ]
  },
  {
   "cell_type": "raw",
   "metadata": {},
   "source": [
    "SPACE COMPLEXITY.\n",
    "\n",
    "\n",
    "In the above program, 2 integers variable are used, size of integer data type is 2 or 4bytes.\n",
    "# assume the size 4bytes..so,Total space occupied is (1+2)*4+4*2=20bytes AND TWO VARIABLES THAT ARE M AND N.\n",
    "# in the begining both variable are zero so address are same ,and after the completion of the loop both variable are diffrent value so they occupied diffrent spaces.\n",
    "# because after every step of the loop the value of the variable changes but address are remain same.\n",
    "\n",
    "SO THE SPACE COMPLEXITY FOR THE ABOVE ARE CONSTANT O(1)\n",
    "\n",
    "\n",
    "\n",
    "\n",
    "TIME COMPLEXITY:-\n",
    "IF N>M\n",
    "T=O(N)\n",
    "\n",
    "IF M>N\n",
    "T=O(M)"
   ]
  },
  {
   "cell_type": "code",
   "execution_count": 15,
   "metadata": {},
   "outputs": [
    {
     "name": "stdout",
     "output_type": "stream",
     "text": [
      "140732574611200\n",
      "140732574611200\n",
      "140732574611392\n",
      "140732574612352\n",
      "6 36\n"
     ]
    }
   ],
   "source": [
    "n= 6\n",
    "m=9\n",
    "a = 0\n",
    "b = 0\n",
    "print(id(a)) \n",
    "print(id(b))\n",
    "for i in range(n):\n",
    "    a = a + 1\n",
    "\n",
    "for j in range(m):\n",
    "    b = b + j\n",
    "    \n",
    "print(id(a)) \n",
    "print(id(b))\n",
    "print(a,b)\n",
    "\n"
   ]
  },
  {
   "cell_type": "markdown",
   "metadata": {},
   "source": [
    "# Question 2"
   ]
  },
  {
   "cell_type": "raw",
   "metadata": {},
   "source": [
    "\n",
    "What does it mean when we say that an algorithm X is asymptotically more efficient than Y?\n",
    "a)X will be a better choice for all inputs\n",
    "b)X will be a better choice for all inputs except possibly small inputs\n",
    "c)X will be a better choice for all inputs except possibly large inputs\n",
    "d)Y will be a better choice for small inputs"
   ]
  },
  {
   "cell_type": "raw",
   "metadata": {},
   "source": [
    "OPTION B\n",
    "\n",
    "an algorithm X is asymptotically more efficient than Y If X takes smaller times than Y  for alll input sizes n larger \n",
    "than a value n0."
   ]
  }
 ],
 "metadata": {
  "kernelspec": {
   "display_name": "Python 3",
   "language": "python",
   "name": "python3"
  },
  "language_info": {
   "codemirror_mode": {
    "name": "ipython",
    "version": 3
   },
   "file_extension": ".py",
   "mimetype": "text/x-python",
   "name": "python",
   "nbconvert_exporter": "python",
   "pygments_lexer": "ipython3",
   "version": "3.8.3"
  }
 },
 "nbformat": 4,
 "nbformat_minor": 4
}
